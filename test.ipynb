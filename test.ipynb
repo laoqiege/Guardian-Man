{
 "cells": [
  {
   "cell_type": "code",
   "execution_count": null,
   "metadata": {},
   "outputs": [],
   "source": [
    "from openai import OpenAI\n",
    "import base64\n",
    "import os"
   ]
  },
  {
   "cell_type": "code",
   "execution_count": null,
   "metadata": {},
   "outputs": [],
   "source": [
    "def encode_image(image_path):\n",
    "    with open(image_path, \"rb\") as image_file:\n",
    "        return base64.b64encode(image_file.read()).decode('utf-8')"
   ]
  },
  {
   "cell_type": "code",
   "execution_count": null,
   "metadata": {},
   "outputs": [],
   "source": [
    "image_path = \"shuaidao.png\"\n",
    "base64_image = encode_image(image_path)\n",
    "data_url = 'data:image/png;base64,'+base64_image"
   ]
  },
  {
   "cell_type": "code",
   "execution_count": null,
   "metadata": {},
   "outputs": [],
   "source": [
    "client = OpenAI(\n",
    "    base_url='https://api.siliconflow.cn/v1',\n",
    "    api_key='sk-pawqcnvkrpbjokrapqcqfjnwcpfastyomscrzcscnbbqwywi'\n",
    ")\n",
    "\n",
    "response = client.chat.completions.create(\n",
    "    model=\"Pro/Qwen/Qwen2.5-VL-7B-Instruct\",\n",
    "    messages=[\n",
    "        {\"role\": \"user\", \n",
    "         \"content\": [\n",
    "             {'type': 'text',\n",
    "              'text': '请描述一下这张图片内容，我作为一个社区机器人，我应该做什么'},\n",
    "             {'type': 'image_url',\n",
    "              'image_url': {\n",
    "                  'url': data_url,\n",
    "                  'detail': 'auto'\n",
    "              }}\n",
    "         ]}\n",
    "    ],\n",
    "    stream=False  # 启用流式输出\n",
    ")"
   ]
  },
  {
   "cell_type": "code",
   "execution_count": null,
   "metadata": {},
   "outputs": [],
   "source": [
    "print(response.choices[0].message.content)"
   ]
  },
  {
   "cell_type": "code",
   "execution_count": null,
   "metadata": {},
   "outputs": [],
   "source": [
    "import requests\n",
    "import json\n",
    "\n",
    "def detect_objects(image_path, api_url=\"http://localhost:8000/detect/\"):\n",
    "    \"\"\"\n",
    "    调用YOLO11检测API\n",
    "    \n",
    "    参数:\n",
    "        image_path: 图像文件路径\n",
    "        api_url: API地址\n",
    "        \n",
    "    返回:\n",
    "        API返回的检测结果\n",
    "    \"\"\"\n",
    "    # 准备文件\n",
    "    with open(image_path, \"rb\") as image_file:\n",
    "        files = {\"file\": (image_path, image_file, \"image/jpeg\")}\n",
    "        \n",
    "        # 发送POST请求到API\n",
    "        response = requests.post(api_url, files=files)\n",
    "        \n",
    "    # 检查响应\n",
    "    if response.status_code == 200:\n",
    "        # 解析JSON响应\n",
    "        results = response.json()\n",
    "        print(results)\n",
    "        print(f\"检测到 {results['total']} 个对象:\")\n",
    "        \n",
    "        for det in results[\"detections\"]:\n",
    "            print(f\"- 类别: {det['class_name']}, 置信度: {det['confidence']:.2f}\")\n",
    "            \n",
    "        return results\n",
    "    else:\n",
    "        print(f\"错误: {response.status_code}, {response.text}\")\n",
    "        return None"
   ]
  },
  {
   "cell_type": "code",
   "execution_count": null,
   "metadata": {},
   "outputs": [],
   "source": [
    "if __name__ == \"__main__\":\n",
    "    # 替换为你的图像路径\n",
    "    image_path = \"shuaidao.jpg\"\n",
    "    \n",
    "    # 替换为你的API地址（如果在远程服务器上）\n",
    "    # api_url = \"http://your_server_ip:8007/detect/\"\n",
    "    api_url = \"http://localhost:8007/detect/\"\n",
    "    \n",
    "    results = detect_objects(image_path, api_url)"
   ]
  },
  {
   "cell_type": "code",
   "execution_count": null,
   "metadata": {},
   "outputs": [],
   "source": [
    "from typing import Literal"
   ]
  }
 ],
 "metadata": {
  "kernelspec": {
   "display_name": "guardian-env",
   "language": "python",
   "name": "python3"
  },
  "language_info": {
   "codemirror_mode": {
    "name": "ipython",
    "version": 3
   },
   "file_extension": ".py",
   "mimetype": "text/x-python",
   "name": "python",
   "nbconvert_exporter": "python",
   "pygments_lexer": "ipython3",
   "version": "3.10.12"
  }
 },
 "nbformat": 4,
 "nbformat_minor": 2
}
