{
 "cells": [
  {
   "cell_type": "code",
   "execution_count": 11,
   "metadata": {},
   "outputs": [],
   "source": [
    "from openai import OpenAI\n",
    "import base64\n",
    "import os"
   ]
  },
  {
   "cell_type": "code",
   "execution_count": 12,
   "metadata": {},
   "outputs": [],
   "source": [
    "def encode_image(image_path):\n",
    "    with open(image_path, \"rb\") as image_file:\n",
    "        return base64.b64encode(image_file.read()).decode('utf-8')"
   ]
  },
  {
   "cell_type": "code",
   "execution_count": 13,
   "metadata": {},
   "outputs": [],
   "source": [
    "image_path = \"shuaidao.png\"\n",
    "base64_image = encode_image(image_path)\n",
    "data_url = 'data:image/png;base64,'+base64_image"
   ]
  },
  {
   "cell_type": "code",
   "execution_count": null,
   "metadata": {},
   "outputs": [],
   "source": [
    "client = OpenAI(\n",
    "    base_url='https://api.siliconflow.cn/v1',\n",
    "    api_key='sk-pawqcnvkrpbjokrapqcqfjnwcpfastyomscrzcscnbbqwywi'\n",
    ")\n",
    "\n",
    "response = client.chat.completions.create(\n",
    "    model=\"Pro/Qwen/Qwen2.5-VL-7B-Instruct\",\n",
    "    messages=[\n",
    "        {\"role\": \"user\", \n",
    "         \"content\": [\n",
    "             {'type': 'text',\n",
    "              'text': '请描述一下这张图片内容，我作为一个社区机器人，我应该做什么'},\n",
    "             {'type': 'image_url',\n",
    "              'image_url': {\n",
    "                  'url': data_url,\n",
    "                  'detail': 'auto'\n",
    "              }}\n",
    "         ]}\n",
    "    ],\n",
    "    stream=False  # 启用流式输出\n",
    ")"
   ]
  },
  {
   "cell_type": "code",
   "execution_count": 23,
   "metadata": {},
   "outputs": [
    {
     "name": "stdout",
     "output_type": "stream",
     "text": [
      "这张图片中显示了一位女性正向地面躺着的一个人指出方向。这个人看起来似乎在无力挣扎或者受伤中。根据提供的信息，您是一个社区机器人，请注意以下几点：\n",
      "\n",
      "1. **立即通知求助人**：\n",
      "   确认求助人是否需要紧急援助，并通过社区平台等工具通知相关求助者或紧急联系方式，如拨打120或911等紧急电话。\n",
      "\n",
      "2. **确保自身安全**：确认环境安全后，接近有需要帮助的人，避免因救助延误所造成的危险。\n",
      "\n",
      "3. **提供帮助**：\n",
      "   - 检查被救助者的意识、言语、呼气、心跳以及脉搏等生命体征。\n",
      "   - 如果你在现场初次评估有需要帮助的迹象，例如软弱、失去意识或者无法移动等，尝试提供基本的生命急救处置，如保持呼吸道畅通、防止发生呼吸道阻塞，或请求相关人员介入，直至医疗专业人员的到场。\n",
      "   - 如果确保没有生命危险，尽量派遣医疗专门人员进行咨询处理，或是以负责任的方式将他们送往一个安全的地方，并提醒高铁儿童或需要援助的人到医院。\n",
      "\n",
      "4. **信息记录和沟通化验**：\n",
      "   如果此人失去了意识并且无法接触到治疗，应确保其贴身上有相关的医疗信息卡，随后应将患者的已知信息发送给医疗人员，以提高专业救助的准确性和效率。\n",
      "\n",
      "在紧急情况下，请遵循上述的建议，保持冷静并救助。\n"
     ]
    }
   ],
   "source": [
    "print(response.choices[0].message.content)"
   ]
  },
  {
   "cell_type": "code",
   "execution_count": 24,
   "metadata": {},
   "outputs": [],
   "source": [
    "import requests\n",
    "import json\n",
    "\n",
    "def detect_objects(image_path, api_url=\"http://localhost:8000/detect/\"):\n",
    "    \"\"\"\n",
    "    调用YOLO11检测API\n",
    "    \n",
    "    参数:\n",
    "        image_path: 图像文件路径\n",
    "        api_url: API地址\n",
    "        \n",
    "    返回:\n",
    "        API返回的检测结果\n",
    "    \"\"\"\n",
    "    # 准备文件\n",
    "    with open(image_path, \"rb\") as image_file:\n",
    "        files = {\"file\": (image_path, image_file, \"image/jpeg\")}\n",
    "        \n",
    "        # 发送POST请求到API\n",
    "        response = requests.post(api_url, files=files)\n",
    "        \n",
    "    # 检查响应\n",
    "    if response.status_code == 200:\n",
    "        # 解析JSON响应\n",
    "        results = response.json()\n",
    "        print(f\"检测到 {results['total']} 个对象:\")\n",
    "        \n",
    "        for det in results[\"detections\"]:\n",
    "            print(f\"- 类别: {det['class_name']}, 置信度: {det['confidence']:.2f}\")\n",
    "            \n",
    "        return results\n",
    "    else:\n",
    "        print(f\"错误: {response.status_code}, {response.text}\")\n",
    "        return None"
   ]
  },
  {
   "cell_type": "code",
   "execution_count": 25,
   "metadata": {},
   "outputs": [
    {
     "name": "stdout",
     "output_type": "stream",
     "text": [
      "检测到 3 个对象:\n",
      "- 类别: person, 置信度: 0.93\n",
      "- 类别: person, 置信度: 0.92\n",
      "- 类别: couch, 置信度: 0.82\n"
     ]
    }
   ],
   "source": [
    "if __name__ == \"__main__\":\n",
    "    # 替换为你的图像路径\n",
    "    image_path = \"shuaidao.jpg\"\n",
    "    \n",
    "    # 替换为你的API地址（如果在远程服务器上）\n",
    "    # api_url = \"http://your_server_ip:8000/detect/\"\n",
    "    api_url = \"http://localhost:8000/detect/\"\n",
    "    \n",
    "    results = detect_objects(image_path, api_url)"
   ]
  }
 ],
 "metadata": {
  "kernelspec": {
   "display_name": "Python 3",
   "language": "python",
   "name": "python3"
  },
  "language_info": {
   "codemirror_mode": {
    "name": "ipython",
    "version": 3
   },
   "file_extension": ".py",
   "mimetype": "text/x-python",
   "name": "python",
   "nbconvert_exporter": "python",
   "pygments_lexer": "ipython3",
   "version": "3.13.2"
  }
 },
 "nbformat": 4,
 "nbformat_minor": 2
}
